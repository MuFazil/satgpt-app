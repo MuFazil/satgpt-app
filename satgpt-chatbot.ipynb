{
 "cells": [
  {
   "cell_type": "code",
   "execution_count": null,
   "metadata": {},
   "outputs": [],
   "source": [
    "debug = False\n",
    "\n",
    "from langchain.chains import ConversationChain\n",
    "from langchain.memory import ConversationBufferMemory\n",
    "from langchain.prompts import MessagesPlaceholder\n",
    "\n",
    "# from langchain import SerpAPIWrapper\n",
    "from langchain.agents import initialize_agent\n",
    "from langchain.agents import AgentType, AgentExecutor\n",
    "from langchain.tools import StructuredTool\n",
    "from langchain.chat_models import ChatOpenAI\n",
    "\n",
    "from typing import List, Dict\n",
    "import panel as pn\n",
    "import param\n",
    "import pandas as pd\n",
    "import geopandas as gpd\n",
    "\n",
    "from modules.chat_tools import tools, chat_box\n",
    "# from modules.rasterize_plots import s2_hv_plot, create_rgb_viewer\n",
    "\n",
    "pd.options.plotting.backend = 'holoviews'"
   ]
  },
  {
   "cell_type": "code",
   "execution_count": null,
   "metadata": {},
   "outputs": [],
   "source": [
    "# this is just my little agent & panel layout/ template\n",
    "\n",
    "def chat(user_messages: List[Dict[str, str]]) -> None:\n",
    "    # user_messages = [{\"You\": \"Your input\"}, {\"AI\": \"A response\"}, ...]\n",
    "    user_message = user_messages[-1]\n",
    "    input = user_message.get(\"You\")\n",
    "    if input is None:\n",
    "        return\n",
    "    chat_box.append({\"SatGPT\": agent.run(input=input)})\n",
    "\n",
    "pn.bind(chat, user_messages=chat_box, watch=True)\n",
    "\n",
    "llm = ChatOpenAI(temperature=0, model=\"gpt-3.5-turbo-0613\")\n",
    "\n",
    "agent_kwargs = {\n",
    "    \"extra_prompt_messages\": [MessagesPlaceholder(variable_name=\"memory\")],\n",
    "}\n",
    "memory = ConversationBufferMemory(memory_key=\"memory\", return_messages=True)\n",
    "\n",
    "\n",
    "agent = initialize_agent(\n",
    "    tools, \n",
    "    llm, \n",
    "    agent=AgentType.OPENAI_FUNCTIONS, \n",
    "    verbose=True,\n",
    "    agent_kwargs=agent_kwargs, \n",
    "    memory=memory\n",
    "    )\n",
    "component = pn.Column(chat_box, height=800)\n",
    "\n",
    "template = pn.template.FastListTemplate(\n",
    "    # site=\"Awesome Panel\",\n",
    "    title=\"SatGPT\",\n",
    "    logo=\"https://panel.holoviz.org/_static/logo_stacked.png\",\n",
    "    main=[component],\n",
    ")\n",
    "\n",
    "if debug == False:\n",
    "    template.servable()\n"
   ]
  },
  {
   "cell_type": "code",
   "execution_count": null,
   "metadata": {},
   "outputs": [],
   "source": [
    "if debug == True:\n",
    "    pn.serve(template)"
   ]
  },
  {
   "cell_type": "code",
   "execution_count": null,
   "metadata": {},
   "outputs": [],
   "source": [
    "# agent.run(\"search sentinel images over seattle, May 2022 & load to map\")"
   ]
  },
  {
   "attachments": {},
   "cell_type": "markdown",
   "metadata": {},
   "source": [
    "template = pn.template.FastListTemplate(\n",
    "    # site=\"Awesome Panel\",\n",
    "    title=\"SatGPT\",\n",
    "    logo=\"https://panel.holoviz.org/_static/logo_stacked.png\",\n",
    "    header_background=ACCENT_BASE_COLOR,\n",
    "    accent_base_color=ACCENT_BASE_COLOR,\n",
    "    main=[component],\n",
    ").servable()"
   ]
  }
 ],
 "metadata": {
  "kernelspec": {
   "display_name": "langchain",
   "language": "python",
   "name": "python3"
  },
  "language_info": {
   "codemirror_mode": {
    "name": "ipython",
    "version": 3
   },
   "file_extension": ".py",
   "mimetype": "text/x-python",
   "name": "python",
   "nbconvert_exporter": "python",
   "pygments_lexer": "ipython3",
   "version": "3.11.3"
  },
  "orig_nbformat": 4
 },
 "nbformat": 4,
 "nbformat_minor": 2
}
