{
 "cells": [
  {
   "cell_type": "code",
   "execution_count": null,
   "metadata": {},
   "outputs": [],
   "source": [
    "import panel as pn\n",
    "\n",
    "chat_box = pn.widgets.ChatBox(\n",
    "    value=[\n",
    "        {\"You\": \"Hello! Hello!Hello !Hello!Hello !Hello! Hello! What's uP?\"},\n",
    "        {\"Machine\": \"Greetings!\"},\n",
    "        {\"You\": \"Question for you...\"},\n",
    "        {\"You\": \"What is the meaning of life?\"},\n",
    "        {\"Machine\": \"I don't know. Do you know?\"},\n",
    "    ],\n",
    ")\n",
    "\n",
    "chat_box.servable()"
   ]
  }
 ],
 "metadata": {
  "language_info": {
   "name": "python"
  },
  "orig_nbformat": 4
 },
 "nbformat": 4,
 "nbformat_minor": 2
}
